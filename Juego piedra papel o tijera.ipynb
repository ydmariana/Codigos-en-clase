{
  "nbformat": 4,
  "nbformat_minor": 0,
  "metadata": {
    "colab": {
      "provenance": []
    },
    "kernelspec": {
      "name": "python3",
      "display_name": "Python 3"
    },
    "language_info": {
      "name": "python"
    }
  },
  "cells": [
    {
      "cell_type": "code",
      "execution_count": null,
      "metadata": {
        "colab": {
          "base_uri": "https://localhost:8080/"
        },
        "id": "BPMjlATl1le1",
        "outputId": "2ffd9083-7282-48a4-ff23-5bc50bfaa546"
      },
      "outputs": [
        {
          "output_type": "stream",
          "name": "stdout",
          "text": [
            " ¿Qué vas a usar? 'piedra','papel','tijeras' tijeras\n",
            "La computadora eligio: piedra\n",
            "¡Perdiste!\n"
          ]
        }
      ],
      "source": [
        "import random\n",
        "import math\n",
        "\n",
        "def play():\n",
        "    user = input(\" ¿Qué vas a usar? 'piedra','papel','tijeras' \")\n",
        "    computer = random.choice (['piedra', 'papel', 'tijeras'])\n",
        "    print(\"La computadora eligio:\",computer)\n",
        "\n",
        "    if user == computer:\n",
        "        return 'Es un Empate'\n",
        "\n",
        "    if is_win(user, computer):\n",
        "        return '¡Ganaste!'\n",
        "    return '¡Perdiste!'\n",
        "\n",
        "def is_win(player, opponent):\n",
        "    if (player == 'piedra' and opponent == 'tijeras') or (player == 'tijeras' and opponent == 'papel') \\\n",
        "        or (player == 'papel' and opponent == 'tijeras'):\n",
        "        return True\n",
        "\n",
        "print(play())"
      ]
    },
    {
      "cell_type": "code",
      "source": [],
      "metadata": {
        "id": "UkaYP4m8HtsP"
      },
      "execution_count": null,
      "outputs": []
    },
    {
      "cell_type": "code",
      "source": [
        "for i in range(5):\n",
        "  print(f\"Ronda{i+1}:\")\n",
        "  resultado = play()\n",
        "  print(resultado)\n",
        "  print()"
      ],
      "metadata": {
        "colab": {
          "base_uri": "https://localhost:8080/"
        },
        "id": "wTN92QT48NRb",
        "outputId": "76505fa5-2159-4b9e-cfa7-34ee3930128b"
      },
      "execution_count": null,
      "outputs": [
        {
          "output_type": "stream",
          "name": "stdout",
          "text": [
            "Ronda1:\n",
            " ¿Qué vas a usar? 'piedra','papel','tijeras' piedra\n",
            "La computadora eligio: tijeras\n",
            "¡Ganaste!\n",
            "\n",
            "Ronda2:\n",
            " ¿Qué vas a usar? 'piedra','papel','tijeras' papel\n",
            "La computadora eligio: piedra\n",
            "¡Perdiste!\n",
            "\n",
            "Ronda3:\n",
            " ¿Qué vas a usar? 'piedra','papel','tijeras' tijeras\n",
            "La computadora eligio: piedra\n",
            "¡Perdiste!\n",
            "\n",
            "Ronda4:\n",
            " ¿Qué vas a usar? 'piedra','papel','tijeras' papel\n",
            "La computadora eligio: tijeras\n",
            "¡Ganaste!\n",
            "\n",
            "Ronda5:\n",
            " ¿Qué vas a usar? 'piedra','papel','tijeras' tijeras\n",
            "La computadora eligio: tijeras\n",
            "Es un Empate\n",
            "\n"
          ]
        }
      ]
    },
    {
      "cell_type": "code",
      "source": [
        "\n",
        "#!\"#$%&()*+,-./0123456789?@ABCDEFGHIJKLMNOPQRSTIVWXYZabcdefghijklmnopqrstuvwxyz\n",
        "\n",
        "\n",
        "\n",
        "\n",
        "import random\n",
        "\n",
        "chars = '#!\"#$%&()*+,-./0123456789?@ABCDEFGHIJKLMNOPQRSTIVWXYZabcdefghijklmnopqrstuvwxyz'\n",
        "password = ''\n",
        "\n",
        "lengthPW = int(input('Que longitud quieres para tu pw:'))\n",
        "\n",
        "for _ in range(lengthPW):\n",
        "\n",
        "  password += random.choice(chars)\n",
        "\n",
        "print(password)\n"
      ],
      "metadata": {
        "colab": {
          "base_uri": "https://localhost:8080/"
        },
        "id": "VVaLp-jEChjw",
        "outputId": "d6cf2616-dd9f-49f1-f7c9-0acb4a4c75e2"
      },
      "execution_count": null,
      "outputs": [
        {
          "output_type": "stream",
          "name": "stdout",
          "text": [
            "Que longitud quieres para tu pw:78\n",
            "In@OpSQDG5cd1iqmmTo8QL6Wwu!VXu&PN5#yLzooAK?dJ4k2TY8ooG9(&@+citz671GdbxdbS@3c\".\n"
          ]
        }
      ]
    }
  ]
}
