{
  "nbformat": 4,
  "nbformat_minor": 0,
  "metadata": {
    "colab": {
      "provenance": []
    },
    "kernelspec": {
      "name": "python3",
      "display_name": "Python 3"
    },
    "language_info": {
      "name": "python"
    }
  },
  "cells": [
    {
      "cell_type": "code",
      "execution_count": null,
      "metadata": {
        "colab": {
          "base_uri": "https://localhost:8080/"
        },
        "id": "BPMjlATl1le1",
        "outputId": "2ffd9083-7282-48a4-ff23-5bc50bfaa546"
      },
      "outputs": [
        {
          "output_type": "stream",
          "name": "stdout",
          "text": [
            " ¿Qué vas a usar? 'piedra','papel','tijeras' tijeras\n",
            "La computadora eligio: piedra\n",
            "¡Perdiste!\n"
          ]
        }
      ],
      "source": [
        "import random\n",
        "import math\n",
        "\n",
        "def play():\n",
        "    user = input(\" ¿Qué vas a usar? 'piedra','papel','tijeras' \")\n",
        "    computer = random.choice (['piedra', 'papel', 'tijeras'])\n",
        "    print(\"La computadora eligio:\",computer)\n",
        "\n",
        "    if user == computer:\n",
        "        return 'Es un Empate'\n",
        "\n",
        "    if is_win(user, computer):\n",
        "        return '¡Ganaste!'\n",
        "    return '¡Perdiste!'\n",
        "\n",
        "def is_win(player, opponent):\n",
        "    if (player == 'piedra' and opponent == 'tijeras') or (player == 'tijeras' and opponent == 'papel') \\\n",
        "        or (player == 'papel' and opponent == 'tijeras'):\n",
        "        return True\n",
        "\n",
        "print(play())"
      ]
    },
    {
      "cell_type": "code",
      "source": [],
      "metadata": {
        "id": "UkaYP4m8HtsP"
      },
      "execution_count": null,
      "outputs": []
    },
    {
      "cell_type": "code",
      "source": [
        "for i in range(5):\n",
        "  print(f\"Ronda{i+1}:\")\n",
        "  resultado = play()\n",
        "  print(resultado)\n",
        "  print()"
      ],
      "metadata": {
        "colab": {
          "base_uri": "https://localhost:8080/"
        },
        "id": "wTN92QT48NRb",
        "outputId": "76505fa5-2159-4b9e-cfa7-34ee3930128b"
      },
      "execution_count": null,
      "outputs": [
        {
          "output_type": "stream",
          "name": "stdout",
          "text": [
            "Ronda1:\n",
            " ¿Qué vas a usar? 'piedra','papel','tijeras' piedra\n",
            "La computadora eligio: tijeras\n",
            "¡Ganaste!\n",
            "\n",
            "Ronda2:\n",
            " ¿Qué vas a usar? 'piedra','papel','tijeras' papel\n",
            "La computadora eligio: piedra\n",
            "¡Perdiste!\n",
            "\n",
            "Ronda3:\n",
            " ¿Qué vas a usar? 'piedra','papel','tijeras' tijeras\n",
            "La computadora eligio: piedra\n",
            "¡Perdiste!\n",
            "\n",
            "Ronda4:\n",
            " ¿Qué vas a usar? 'piedra','papel','tijeras' papel\n",
            "La computadora eligio: tijeras\n",
            "¡Ganaste!\n",
            "\n",
            "Ronda5:\n",
            " ¿Qué vas a usar? 'piedra','papel','tijeras' tijeras\n",
            "La computadora eligio: tijeras\n",
            "Es un Empate\n",
            "\n"
          ]
        }
      ]
    },
    {
      "cell_type": "code",
      "source": [
        "\n",
        "#!\"#$%&()*+,-./0123456789?@ABCDEFGHIJKLMNOPQRSTIVWXYZabcdefghijklmnopqrstuvwxyz\n",
        "\n",
        "\n",
        "\n",
        "\n",
        "import random\n",
        "random.seed(1234)\n",
        "chars = '#!\"#$%&()*+,-./0123456789?@ABCDEFGHIJKLMNOPQRSTIVWXYZabcdefghijklmnopqrstuvwxyz'\n",
        "password = ''\n",
        "\n",
        "lengthPW = int(input('Que longitud quieres para tu pw:'))\n",
        "\n",
        "for _ in range(lengthPW):\n",
        "\n",
        "  password += random.choice(chars)\n",
        "\n",
        "print(password)\n"
      ],
      "metadata": {
        "colab": {
          "base_uri": "https://localhost:8080/"
        },
        "id": "VVaLp-jEChjw",
        "outputId": "28ef09b8-7a1c-4510-f0c4-ed0692e1c809"
      },
      "execution_count": 1,
      "outputs": [
        {
          "output_type": "stream",
          "name": "stdout",
          "text": [
            "Que longitud quieres para tu pw:5\n",
            "d/#,v\n"
          ]
        }
      ]
    },
    {
      "cell_type": "code",
      "source": [
        "contraseña=\"Computadora\"\n",
        "contador=0\n",
        "\n",
        "while True:\n",
        "  contraseña_input = input(\"Introduzca una contraseña: \")\n",
        "  contador +=1\n",
        "\n",
        "  if contador>3:\n",
        "    print(\"Haz sobrepasado los intentos\")\n",
        "\n",
        "  elif contraseña_input== \"Computadora\":\n",
        "    print(\"Contraseña Correcta\")\n",
        "    break\n",
        "\n",
        "  else:\n",
        "    print(\"Contraseña Incorrecta, Introduzca una contraseña correcta\")\n"
      ],
      "metadata": {
        "colab": {
          "base_uri": "https://localhost:8080/"
        },
        "id": "L4yWBgf-H8_a",
        "outputId": "1da1cf46-bd23-4094-912e-3a8a8deab058"
      },
      "execution_count": 4,
      "outputs": [
        {
          "output_type": "stream",
          "name": "stdout",
          "text": [
            "Introduzca una contraseña: as\n",
            "Contraseña Incorrecta, Introduzca una contraseña correcta\n",
            "Introduzca una contraseña: Computadora\n",
            "Contraseña Correcta\n"
          ]
        }
      ]
    }
  ]
}