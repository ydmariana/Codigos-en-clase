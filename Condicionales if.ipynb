{
  "nbformat": 4,
  "nbformat_minor": 0,
  "metadata": {
    "colab": {
      "provenance": []
    },
    "kernelspec": {
      "name": "python3",
      "display_name": "Python 3"
    },
    "language_info": {
      "name": "python"
    }
  },
  "cells": [
    {
      "cell_type": "code",
      "execution_count": null,
      "metadata": {
        "colab": {
          "base_uri": "https://localhost:8080/",
          "height": 53
        },
        "id": "IFv1H6WWAXap",
        "outputId": "d2e806c2-6bf7-4d95-aeb3-7700ffa0695d"
      },
      "outputs": [
        {
          "name": "stdout",
          "output_type": "stream",
          "text": [
            "Ingresar un numero0\n"
          ]
        },
        {
          "output_type": "execute_result",
          "data": {
            "text/plain": [
              "'0'"
            ],
            "application/vnd.google.colaboratory.intrinsic+json": {
              "type": "string"
            }
          },
          "metadata": {},
          "execution_count": 3
        }
      ],
      "source": [
        "input (\"Ingresar un numero\")"
      ]
    },
    {
      "cell_type": "code",
      "source": [
        "x=0\n",
        "x=input(\"Ingresar un numero:\\n\")\n",
        "if int(x) % 2 == 0:\n",
        "  print(\"Es par\")\n",
        "else:\n",
        "  print (\"Es impar\")\n",
        "\n"
      ],
      "metadata": {
        "colab": {
          "base_uri": "https://localhost:8080/"
        },
        "id": "qsSk--C9Ib8X",
        "outputId": "690fb9d9-fce9-4c26-c10b-a253d3004797"
      },
      "execution_count": null,
      "outputs": [
        {
          "output_type": "stream",
          "name": "stdout",
          "text": [
            "Ingresar un numero:\n",
            "5\n",
            "Es impar\n"
          ]
        }
      ]
    },
    {
      "cell_type": "code",
      "source": [
        "x=10\n",
        "x-=1 if x>0 else x\n",
        "print(x)"
      ],
      "metadata": {
        "colab": {
          "base_uri": "https://localhost:8080/"
        },
        "id": "qZY0oEmLNusZ",
        "outputId": "f743a8c6-31fa-48c3-b598-39f057151f89"
      },
      "execution_count": null,
      "outputs": [
        {
          "output_type": "stream",
          "name": "stdout",
          "text": [
            "9\n"
          ]
        }
      ]
    },
    {
      "cell_type": "code",
      "source": [
        "\n",
        "numero=input(\"Ingresar un numero:\\n\")\n",
        "if int(numero) % 2 == 0:\n",
        "  print(\"Es par\")\n",
        "else:\n",
        "  print (\"Es impar\")"
      ],
      "metadata": {
        "colab": {
          "base_uri": "https://localhost:8080/"
        },
        "id": "qQG-cZe2PVfS",
        "outputId": "3c827100-2e90-450d-8507-3b89d4655aa5"
      },
      "execution_count": null,
      "outputs": [
        {
          "output_type": "stream",
          "name": "stdout",
          "text": [
            "Ingresar un numero:\n",
            "2\n",
            "Es par\n"
          ]
        }
      ]
    }
  ]
}